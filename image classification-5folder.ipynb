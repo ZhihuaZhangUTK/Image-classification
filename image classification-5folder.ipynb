{
 "cells": [
  {
   "cell_type": "code",
   "execution_count": 14,
   "metadata": {},
   "outputs": [],
   "source": [
    "import cv2\n",
    "import os\n",
    "import matplotlib.pyplot as plt \n",
    "import numpy as np\n",
    "from sklearn.svm import LinearSVC, SVC\n",
    "from sklearn.externals import joblib\n",
    "from scipy.cluster.vq import *\n",
    "from sklearn.preprocessing import StandardScaler\n",
    "from sklearn.model_selection import cross_val_predict\n",
    "from sklearn.model_selection import cross_val_score\n",
    "from sklearn.model_selection import train_test_split\n",
    "from sklearn.metrics import confusion_matrix"
   ]
  },
  {
   "cell_type": "markdown",
   "metadata": {
    "collapsed": true
   },
   "source": [
    "# image function"
   ]
  },
  {
   "cell_type": "code",
   "execution_count": 2,
   "metadata": {
    "collapsed": true
   },
   "outputs": [],
   "source": [
    "def imlist(path): # list the images in a folder\n",
    "    \"\"\"\n",
    "    The function imlist returns all the names of the files in \n",
    "    the directory path supplied as argument to the function.\n",
    "    \"\"\"\n",
    "    return [os.path.join(path, f) for f in os.listdir(path)]"
   ]
  },
  {
   "cell_type": "markdown",
   "metadata": {},
   "source": [
    "# bag-of-word (BOW) function"
   ]
  },
  {
   "cell_type": "code",
   "execution_count": 3,
   "metadata": {
    "collapsed": true
   },
   "outputs": [],
   "source": [
    "# Create feature extraction and keypoint detector objects\n",
    "def BOW(image_paths, sift):\n",
    "    des_list = []     # save descriptor list\n",
    "    for image_path in image_paths:\n",
    "        im = cv2.imread(image_path)\n",
    "        gray= cv2.cvtColor(im,cv2.COLOR_BGR2GRAY)\n",
    "        (kps, des) = sift.detectAndCompute(gray, None)\n",
    "        des_list.append((image_path, des))  \n",
    "    return des_list"
   ]
  },
  {
   "cell_type": "markdown",
   "metadata": {},
   "source": [
    "# histogram of BOW function"
   ]
  },
  {
   "cell_type": "code",
   "execution_count": 4,
   "metadata": {
    "collapsed": true
   },
   "outputs": [],
   "source": [
    "def hist_bow(des_list, image_paths):\n",
    "    # Stack all the descriptors vertically in a numpy array\n",
    "    descriptors = des_list[0][1]\n",
    "    for image_path, descriptor in des_list[1:]:\n",
    "        descriptors = np.vstack((descriptors, descriptor))  \n",
    "    \n",
    "    # Perform k-means clustering\n",
    "    k = 50\n",
    "    voc, variance = kmeans(descriptors, k, 1) \n",
    "    # Calculate the histogram of features\n",
    "    im_features = np.zeros((len(image_paths), k), \"float32\")\n",
    "    for i in range(len(image_paths)):\n",
    "        words, distance = vq(des_list[i][1],voc)\n",
    "        for w in words:\n",
    "            im_features[i][w] += 1\n",
    "    return im_features"
   ]
  },
  {
   "cell_type": "markdown",
   "metadata": {},
   "source": [
    "# Load train data and test data"
   ]
  },
  {
   "cell_type": "code",
   "execution_count": 5,
   "metadata": {
    "collapsed": true
   },
   "outputs": [],
   "source": [
    "# Get the path of the dataset\n",
    "path = r'traindata'\n",
    "names = os.listdir(path)"
   ]
  },
  {
   "cell_type": "code",
   "execution_count": 6,
   "metadata": {
    "collapsed": true
   },
   "outputs": [],
   "source": [
    "# Get all the path to the images and save them in a list; save the image label to a list\n",
    "image_paths = []\n",
    "image_classes = []\n",
    "class_id = 0\n",
    "for name in names:\n",
    "    dir = os.path.join(path, name)\n",
    "    class_path = imlist(dir)\n",
    "    image_paths+=class_path\n",
    "    image_classes+=[class_id]*len(class_path)\n",
    "    class_id+=1"
   ]
  },
  {
   "cell_type": "code",
   "execution_count": 7,
   "metadata": {
    "collapsed": true
   },
   "outputs": [],
   "source": [
    "# initiate the sift algorithm\n",
    "sift = cv2.xfeatures2d.SIFT_create()\n",
    "\n",
    "# train data\n",
    "descriptor = BOW(image_paths, sift)\n",
    "im_features = hist_bow(descriptor, image_paths)\n",
    "\n",
    "# Perform Tf-Idf vectorization\n",
    "nbr_occurences = np.sum( (im_features > 0) * 1, axis = 0)\n",
    "# Calculating the number of occurrences\n",
    "idf = np.array(np.log((1.0*len(image_paths)+1) / (1.0*nbr_occurences + 1)), 'float32')\n",
    "# Giving weight to one that occurs more frequently\n",
    "im_features = im_features*idf\n",
    "\n",
    "# Scaling the words\n",
    "stdSlr = StandardScaler().fit(im_features)\n",
    "im_features = stdSlr.transform(im_features)"
   ]
  },
  {
   "cell_type": "code",
   "execution_count": 15,
   "metadata": {},
   "outputs": [
    {
     "name": "stdout",
     "output_type": "stream",
     "text": [
      "the average accuracy is  0.47750000000000004\n"
     ]
    },
    {
     "data": {
      "text/plain": [
       "array([[46, 11,  5,  5,  3,  1, 26,  3],\n",
       "       [ 0, 89,  0,  0,  3,  1,  2,  5],\n",
       "       [ 8, 23, 28,  4,  0,  4, 29,  4],\n",
       "       [ 5,  5,  3, 50, 18,  2,  7, 10],\n",
       "       [ 9, 10,  1, 12, 51,  0,  8,  9],\n",
       "       [ 6, 18, 13, 11,  4, 27, 19,  2],\n",
       "       [13, 22,  8,  6,  8,  3, 36,  4],\n",
       "       [ 1, 12,  0,  8, 18,  0,  6, 55]])"
      ]
     },
     "execution_count": 15,
     "metadata": {},
     "output_type": "execute_result"
    }
   ],
   "source": [
    "#### 5-folder cross validatiaon ####\n",
    "# accuracy\n",
    "clf = SVC()\n",
    "scores = cross_val_score(clf, im_features, image_classes, cv=5)\n",
    "print(\"the average accuracy is \", np.mean(scores))\n",
    "\n",
    "# confusion matrix\n",
    "predict = cross_val_predict(clf, im_features, image_classes, cv=5)\n",
    "confusion_matrix(image_classes, predict)"
   ]
  }
 ],
 "metadata": {
  "kernelspec": {
   "display_name": "Python 3",
   "language": "python",
   "name": "python3"
  },
  "language_info": {
   "codemirror_mode": {
    "name": "ipython",
    "version": 3
   },
   "file_extension": ".py",
   "mimetype": "text/x-python",
   "name": "python",
   "nbconvert_exporter": "python",
   "pygments_lexer": "ipython3",
   "version": "3.6.1"
  }
 },
 "nbformat": 4,
 "nbformat_minor": 2
}
